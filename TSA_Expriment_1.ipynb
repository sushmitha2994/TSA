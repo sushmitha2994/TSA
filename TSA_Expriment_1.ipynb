{
  "nbformat": 4,
  "nbformat_minor": 0,
  "metadata": {
    "colab": {
      "provenance": []
    },
    "kernelspec": {
      "name": "python3",
      "display_name": "Python 3"
    },
    "language_info": {
      "name": "python"
    }
  },
  "cells": [
    {
      "cell_type": "code",
      "execution_count": null,
      "metadata": {
        "colab": {
          "base_uri": "https://localhost:8080/"
        },
        "id": "pMOOALWF0mvS",
        "outputId": "db9ef081-be20-4e15-e698-3d458b010eae"
      },
      "outputs": [
        {
          "output_type": "stream",
          "name": "stdout",
          "text": [
            "Requirement already satisfied: pandas in /usr/local/lib/python3.11/dist-packages (2.2.2)\n",
            "Requirement already satisfied: numpy>=1.23.2 in /usr/local/lib/python3.11/dist-packages (from pandas) (1.26.4)\n",
            "Requirement already satisfied: python-dateutil>=2.8.2 in /usr/local/lib/python3.11/dist-packages (from pandas) (2.8.2)\n",
            "Requirement already satisfied: pytz>=2020.1 in /usr/local/lib/python3.11/dist-packages (from pandas) (2024.2)\n",
            "Requirement already satisfied: tzdata>=2022.7 in /usr/local/lib/python3.11/dist-packages (from pandas) (2025.1)\n",
            "Requirement already satisfied: six>=1.5 in /usr/local/lib/python3.11/dist-packages (from python-dateutil>=2.8.2->pandas) (1.17.0)\n"
          ]
        }
      ],
      "source": [
        "!pip install pandas\n"
      ]
    },
    {
      "cell_type": "code",
      "source": [
        "\n"
      ],
      "metadata": {
        "id": "JqZQZrBW0yvS"
      },
      "execution_count": null,
      "outputs": []
    },
    {
      "cell_type": "code",
      "source": [
        "#Creating dataset\n",
        "import pandas as pd\n",
        "data = {\n",
        "    'Day': ['Sunday', 'Monday', 'Tuesday', 'Wednesday','Thursday','Friday','Saturday'],\n",
        "    'Selling value': ['80','90','100','np.nan','np.nan','100','110']\n",
        "}\n",
        "\n",
        "df = pd.DataFrame(data)\n",
        "\n",
        "print(df)\n"
      ],
      "metadata": {
        "colab": {
          "base_uri": "https://localhost:8080/"
        },
        "id": "R_UvSBz9082h",
        "outputId": "ec4c998c-121c-4f71-a4d7-7f3e853e2e22"
      },
      "execution_count": null,
      "outputs": [
        {
          "output_type": "stream",
          "name": "stdout",
          "text": [
            "         Day Selling value\n",
            "0     Sunday            80\n",
            "1     Monday            90\n",
            "2    Tuesday           100\n",
            "3  Wednesday        np.nan\n",
            "4   Thursday        np.nan\n",
            "5     Friday           100\n",
            "6   Saturday           110\n"
          ]
        }
      ]
    },
    {
      "cell_type": "code",
      "source": [
        "\n",
        "import pandas as pd\n",
        "import numpy as np\n",
        "data = {\n",
        "    'Day': ['Sunday', 'Monday', 'Tuesday', 'Wednesday','Thursday','Friday','Saturday'],\n",
        "    'Selling value': ['80','90','100','np.nan','np.nan','100','110']\n",
        "}\n",
        "\n",
        "df = pd.DataFrame(data)\n",
        "\n",
        "df['Selling value'] = pd.to_numeric(df['Selling value'], errors='coerce')\n",
        "\n",
        "df['Selling value'] = df['Selling value'].fillna(df['Selling value'].mean())\n",
        "print(\"\\nDataset after Filling Missing Values with Mean:\")\n",
        "print(df)\n"
      ],
      "metadata": {
        "colab": {
          "base_uri": "https://localhost:8080/"
        },
        "id": "Ka3cbEnI5Pcr",
        "outputId": "f597a4a3-8eb1-43d4-c913-16341ad7a778"
      },
      "execution_count": null,
      "outputs": [
        {
          "output_type": "stream",
          "name": "stdout",
          "text": [
            "\n",
            "Dataset after Filling Missing Values with Mean:\n",
            "         Day  Selling value\n",
            "0     Sunday           80.0\n",
            "1     Monday           90.0\n",
            "2    Tuesday          100.0\n",
            "3  Wednesday           96.0\n",
            "4   Thursday           96.0\n",
            "5     Friday          100.0\n",
            "6   Saturday          110.0\n"
          ]
        }
      ]
    },
    {
      "cell_type": "code",
      "source": [
        "\n",
        "df['Selling value'] = df['Selling value'].fillna(method='ffill')\n",
        "print(\"\\nDataset after Forward Filling:\")\n",
        "print(df)\n",
        "\n",
        "\n",
        "df['Selling value'] = df['Selling value'].fillna(method='bfill')\n",
        "print(\"\\nDataset after Backward Filling:\")\n",
        "print(df)\n"
      ],
      "metadata": {
        "colab": {
          "base_uri": "https://localhost:8080/"
        },
        "id": "R64AZ0eG6nPT",
        "outputId": "888220e5-dd7c-4b24-d5a9-2a66151eecc0"
      },
      "execution_count": null,
      "outputs": [
        {
          "output_type": "stream",
          "name": "stdout",
          "text": [
            "\n",
            "Dataset after Forward Filling:\n",
            "         Day  Selling value\n",
            "0     Sunday           80.0\n",
            "1     Monday           90.0\n",
            "2    Tuesday          100.0\n",
            "3  Wednesday          100.0\n",
            "4   Thursday          100.0\n",
            "5     Friday          100.0\n",
            "6   Saturday          110.0\n",
            "\n",
            "Dataset after Backward Filling:\n",
            "         Day  Selling value\n",
            "0     Sunday           80.0\n",
            "1     Monday           90.0\n",
            "2    Tuesday          100.0\n",
            "3  Wednesday          100.0\n",
            "4   Thursday          100.0\n",
            "5     Friday          100.0\n",
            "6   Saturday          110.0\n"
          ]
        },
        {
          "output_type": "stream",
          "name": "stderr",
          "text": [
            "<ipython-input-16-929feb2ada73>:1: FutureWarning: Series.fillna with 'method' is deprecated and will raise in a future version. Use obj.ffill() or obj.bfill() instead.\n",
            "  df['Selling value'] = df['Selling value'].fillna(method='ffill')\n",
            "<ipython-input-16-929feb2ada73>:6: FutureWarning: Series.fillna with 'method' is deprecated and will raise in a future version. Use obj.ffill() or obj.bfill() instead.\n",
            "  df['Selling value'] = df['Selling value'].fillna(method='bfill')\n"
          ]
        }
      ]
    },
    {
      "cell_type": "code",
      "source": [
        "import pandas as pd\n",
        "import numpy as np\n",
        "\n",
        "# Create a dataset with missing Date and Time values\n",
        "data = {\n",
        "    'Date': ['2025-01-01', np.nan, '2025-01-03', '2025-01-04', np.nan],\n",
        "    'Time': ['10:00', '11:00', np.nan, '13:00', '14:00'],\n",
        "}\n",
        "\n",
        "df = pd.DataFrame(data)\n",
        "\n",
        "# Fill missing Date and Time using forward fill (ffill)\n",
        "df['Date'] = df['Date'].fillna(method='ffill')\n",
        "df['Time'] = df['Time'].fillna(method='ffill')\n",
        "\n",
        "print(df)\n"
      ],
      "metadata": {
        "colab": {
          "base_uri": "https://localhost:8080/"
        },
        "id": "XrTYmNUYCmjX",
        "outputId": "8059e5c3-672c-4ad6-88ce-6a8c0e7ef319"
      },
      "execution_count": null,
      "outputs": [
        {
          "output_type": "stream",
          "name": "stdout",
          "text": [
            "         Date   Time\n",
            "0  2025-01-01  10:00\n",
            "1  2025-01-01  11:00\n",
            "2  2025-01-03  11:00\n",
            "3  2025-01-04  13:00\n",
            "4  2025-01-04  14:00\n"
          ]
        },
        {
          "output_type": "stream",
          "name": "stderr",
          "text": [
            "<ipython-input-21-ec07ffc67436>:13: FutureWarning: Series.fillna with 'method' is deprecated and will raise in a future version. Use obj.ffill() or obj.bfill() instead.\n",
            "  df['Date'] = df['Date'].fillna(method='ffill')\n",
            "<ipython-input-21-ec07ffc67436>:14: FutureWarning: Series.fillna with 'method' is deprecated and will raise in a future version. Use obj.ffill() or obj.bfill() instead.\n",
            "  df['Time'] = df['Time'].fillna(method='ffill')\n"
          ]
        }
      ]
    },
    {
      "cell_type": "code",
      "source": [
        "import pandas as pd\n",
        "import numpy as np\n",
        "import matplotlib.pyplot as plt\n",
        "import seaborn as sns\n",
        "\n",
        "# Create a dataset with missing Date and Time values\n",
        "data = {\n",
        "    'Date': ['2025-01-01', np.nan, '2025-01-03', '2025-01-04', np.nan],\n",
        "    'Time': ['10:00', '11:00', np.nan, '13:00', '14:00'],\n",
        "}\n",
        "\n",
        "df = pd.DataFrame(data)\n",
        "\n",
        "# Convert 'Date' to numeric (ordinal) and 'Time' to seconds\n",
        "df['Date'] = pd.to_datetime(df['Date'], errors='coerce')\n",
        "df['Time'] = pd.to_datetime(df['Time'], format='%H:%M', errors='coerce')\n",
        "\n",
        "# Convert Date to ordinal (numeric)\n",
        "df['Date'] = df['Date'].map(lambda x: x.toordinal() if pd.notnull(x) else np.nan)\n",
        "\n",
        "# Convert Time to total seconds (numeric)\n",
        "df['Time'] = df['Time'].dt.hour * 3600 + df['Time'].dt.minute * 60\n",
        "\n",
        "# Fill missing values using the mean\n",
        "df['Date'] = df['Date'].fillna(df['Date'].mean())\n",
        "df['Time'] = df['Time'].fillna(df['Time'].mean())\n",
        "\n",
        "# Visualize the dataset\n",
        "plt.figure(figsize=(10, 6))\n",
        "\n",
        "# Plot Date vs Time\n",
        "plt.subplot(1, 2, 1)\n",
        "sns.scatterplot(x='Date', y='Time', data=df, color='blue')\n",
        "plt.title('Date vs Time')\n",
        "plt.xlabel('Date (Numeric)')\n",
        "plt.ylabel('Time (in Seconds)')\n",
        "\n",
        "# Plot Distribution of Date and Time\n",
        "plt.subplot(1, 2, 2)\n",
        "sns.histplot(df['Date'], kde=True, color='orange', label='Date', bins=10, alpha=0.7)\n",
        "sns.histplot(df['Time'], kde=True, color='green', label='Time', bins=10, alpha=0.7)\n",
        "plt.legend()\n",
        "plt.title('Distribution of Date and Time')\n",
        "\n",
        "plt.tight_layout()\n",
        "plt.show()\n"
      ],
      "metadata": {
        "id": "UfsutiTnGRQo",
        "outputId": "289a93da-79d1-4f32-a9e8-33e0a6fde389",
        "colab": {
          "base_uri": "https://localhost:8080/",
          "height": 607
        }
      },
      "execution_count": null,
      "outputs": [
        {
          "output_type": "display_data",
          "data": {
            "text/plain": [
              "<Figure size 1000x600 with 2 Axes>"
            ],
            "image/png": "[encoded data removed]"
          },
          "metadata": {}
        }
      ]
    }
  ]
}